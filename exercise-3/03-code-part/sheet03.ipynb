{
 "cells": [
  {
   "cell_type": "markdown",
   "metadata": {},
   "source": [
    "### Students: \n",
    "* Mattes Ohse   (337356)\n",
    "* Florian Ebert (391837)\n",
    "* Rodrigo Alexis Pardo Meza \n",
    "* Bertty Contreras Rojas\n",
    "\n",
    "\n",
    "\n",
    "> **NOTE: Some result are different from the original \"PDF answer\" because the input it's different and the PCA is so sensible to changes in the input**"
   ]
  }
 ],
 "metadata": {
  "kernelspec": {
   "display_name": "Python 3",
   "language": "python",
   "name": "python3"
  },
  "language_info": {
   "codemirror_mode": {
    "name": "ipython",
    "version": 3
   },
   "file_extension": ".py",
   "mimetype": "text/x-python",
   "name": "python",
   "nbconvert_exporter": "python",
   "pygments_lexer": "ipython3",
   "version": "3.8.3"
  }
 },
 "nbformat": 4,
 "nbformat_minor": 1
}