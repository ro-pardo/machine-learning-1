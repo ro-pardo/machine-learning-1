{
 "cells": [
  {
   "cell_type": "code",
   "execution_count": 1,
   "metadata": {},
   "outputs": [],
   "source": [
    "import numpy\n",
    "import sklearn\n",
    "%matplotlib inline"
   ]
  },
  {
   "cell_type": "markdown",
   "metadata": {},
   "source": [
    "# Learning curves and error bounds\n",
    "\n",
    "In this exercise, we test the performance of a classifier as we vary its complexity and the number of data points used for training, and compare the error with two bounds: the Hoeffdings bound, and the VC bound. As a first step, we load some artificial dataset where the two classes are 1000-dimensional Gaussians of same (isotropic) covariance and of different means."
   ]
  },
  {
   "cell_type": "code",
   "execution_count": 2,
   "metadata": {},
   "outputs": [
    {
     "name": "stdout",
     "output_type": "stream",
     "text": [
      "(20000, 1000) (20000,)\n"
     ]
    }
   ],
   "source": [
    "import utils\n",
    "X,T = utils.getdata()\n",
    "print(X.shape,T.shape)"
   ]
  },
  {
   "cell_type": "markdown",
   "metadata": {},
   "source": [
    "We consider the perceptron as a training algorithm."
   ]
  },
  {
   "cell_type": "code",
   "execution_count": 3,
   "metadata": {},
   "outputs": [],
   "source": [
    "import sklearn.linear_model\n",
    "model = sklearn.linear_model.Perceptron"
   ]
  },
  {
   "cell_type": "markdown",
   "metadata": {},
   "source": [
    "### Measuring the error (15 P)\n",
    "\n",
    "The first task is to build a function that estimates the classification error (the 0/1 loss) when training the data on $N$ examples (sampled randomly from the dataset), and observing only the first $d$ dimensions of the data. Your function should output the training error and the test error (measured on the points that have not been used for training). In order to get robust error estimates, run the procedure 10 times with different training/test splits, and compute the average training and test error over the 10 splits."
   ]
  },
  {
   "cell_type": "code",
   "execution_count": 4,
   "metadata": {},
   "outputs": [
    {
     "data": {
      "text/plain": [
       "(0.375, 0.4269145728643216)"
      ]
     },
     "execution_count": 4,
     "metadata": {},
     "output_type": "execute_result"
    }
   ],
   "source": [
    "from sklearn.metrics import zero_one_loss\n",
    "\n",
    "def loss_0_1(fx, y):\n",
    "    loss = numpy.array([fx[i] == y[i] for i in range(fx.shape[0])])\n",
    "    return numpy.where(loss == True, 0, 1).mean()\n",
    "    #loss = numpy.array([0 if fx[i]*y[i]>0 else 1 for i in range(fx.shape[0])])\n",
    "    #return loss.mean()\n",
    "    \n",
    "def pick_dataset(X, T, training_size):\n",
    "    #shuffle the dataset \n",
    "    index = numpy.arange(X.shape[0])\n",
    "    numpy.random.shuffle(index)\n",
    "    X = X[index]\n",
    "    T = T[index]\n",
    "    \n",
    "    #particionate the dataset\n",
    "    X_training = X[:training_size]\n",
    "    Y_training = T[:training_size]\n",
    "    X_testing = X[training_size:]\n",
    "    Y_testing = T[training_size:]\n",
    "    \n",
    "    return X_training, Y_training, X_testing, Y_testing\n",
    "    \n",
    "\n",
    "def execute_model(model_instance, x, T, N):\n",
    "    X_training, Y_training, X_testing, Y_testing = pick_dataset(x, T, N)\n",
    "    \n",
    "    f = model_instance.fit(X=X_training, y=Y_training)\n",
    "\n",
    "    fx_training = f.predict(X_training)\n",
    "    fx_testing = f.predict(X_testing)\n",
    "\n",
    "    return loss_0_1(fx_training, Y_training), loss_0_1(fx_testing, Y_testing)\n",
    "    #return f.score(X_training, Y_training), loss_0_1(fx_testing, Y_testing)\n",
    "    \n",
    "def geterr(N,d,X,T):\n",
    "    x = X[:, :d]\n",
    "    instance = model()\n",
    "    errors = numpy.array([ execute_model(instance, x, T, N) for i in range(10)]).mean(axis=0)\n",
    "    etrain,etest = errors[0], errors[1]\n",
    "    return etrain,etest\n",
    "\n",
    "geterr(100, 10, X, T)"
   ]
  },
  {
   "cell_type": "code",
   "execution_count": null,
   "metadata": {},
   "outputs": [],
   "source": []
  },
  {
   "cell_type": "code",
   "execution_count": null,
   "metadata": {},
   "outputs": [],
   "source": []
  },
  {
   "cell_type": "code",
   "execution_count": null,
   "metadata": {},
   "outputs": [],
   "source": []
  },
  {
   "cell_type": "code",
   "execution_count": null,
   "metadata": {},
   "outputs": [],
   "source": []
  },
  {
   "cell_type": "code",
   "execution_count": null,
   "metadata": {},
   "outputs": [],
   "source": []
  },
  {
   "cell_type": "markdown",
   "metadata": {},
   "source": [
    "### Bounding the test error (15 P)\n",
    "\n",
    "We would like to compare the test error estimates with error bounds seen during the lecture. We consider in particular the Hoeffding's bound given by\n",
    "$$\n",
    "R[f] \\leq R_\\text{emp}[f] + \\sqrt{\\frac{\\log(2/\\delta)}{2N}}\n",
    "$$\n",
    "which makes the assumption that the function $f$ was not learned, but predefined. Note that this assumption does not hold in practice, and we therefore expect the Hoeffding's bound to not be a bound of the test error. We will verify this in the subsequent experiments.\n",
    "\n",
    "We also consider the VC bound, which does not have this limitation and is therefore a true bound of the test error. The VC bound is given by:\n",
    "$$\n",
    "R[f] \\leq  R_\\text{emp}[f] + 2\\sqrt{2 \\frac{h_\\mathcal{F} (\\log (2N / h_\\mathcal{F}) + 1) + \\log(2/\\delta)}{N}}\n",
    "$$\n",
    "where $h_\\mathcal{F}$ is the VC-dimension that measures the model complexity, and we recall that $h_\\mathcal{F} = d+1$ for the set of linear models.\n",
    "\n",
    "In the following, we would like to implement these two bounds, so that they can be compared to the test error."
   ]
  },
  {
   "cell_type": "code",
   "execution_count": 5,
   "metadata": {},
   "outputs": [],
   "source": [
    "sqrt = numpy.sqrt\n",
    "log = numpy.log\n",
    "\n",
    "def Remp_f(errors):\n",
    "    return numpy.mean(errors)\n",
    "    \n",
    "\n",
    "def hoeffding(Etrain,N,delta=0.05):\n",
    "    \n",
    "    constant = sqrt(log(2/delta)/(2*N))\n",
    "    \n",
    "    return Remp_f(Etrain) + constant\n",
    "\n",
    "def vc(Etrain,N,d,delta=0.05):\n",
    "    hf = d + 1\n",
    "    \n",
    "    frac_top = hf * (log(2*N/hf) + 1) + log(2/delta)\n",
    "    \n",
    "    constant = 2 * sqrt(2*(frac_top)/N)\n",
    "    \n",
    "    return Remp_f(Etrain) + constant\n"
   ]
  },
  {
   "cell_type": "markdown",
   "metadata": {},
   "source": [
    "Once these functions have been implemented, test your implementation by running the following two experiments, where we plot the training and test error and the two bounds when varying different parameters.\n",
    "\n",
    "In the first experiment, we first keep the number of observed dimensions $d$ fixed and vary the number of data points $N$ used for training."
   ]
  },
  {
   "cell_type": "code",
   "execution_count": 6,
   "metadata": {},
   "outputs": [
    {
     "data": {
      "image/png": "[encoded data removed]",
      "text/plain": [
       "<Figure size 432x288 with 1 Axes>"
      ]
     },
     "metadata": {
      "needs_background": "light"
     },
     "output_type": "display_data"
    }
   ],
   "source": [
    "Ns = numpy.logspace(1.5,3.5,20).astype('int')\n",
    "utils.getcurves(X,T,zip(Ns,[50]*len(Ns)),Ns,geterr,hoeffding,vc)"
   ]
  },
  {
   "cell_type": "markdown",
   "metadata": {},
   "source": [
    "We observe that the Hoeffding's bound is indeed for some values of $N$ below the test error. Therefore, it is not a bound of the test error. Instead, the VC bound is always above the test error. While the bound is loose (it never actually reaches an error below 1) it still correctly predicts the benefit of including more data for improving the test error.\n",
    "\n",
    "In the second experiment, we keep the number of training points $N$ fixed and we vary the number of dimensions $d$ used for training."
   ]
  },
  {
   "cell_type": "code",
   "execution_count": 7,
   "metadata": {},
   "outputs": [
    {
     "data": {
      "image/png": "[encoded data removed]",
      "text/plain": [
       "<Figure size 432x288 with 1 Axes>"
      ]
     },
     "metadata": {
      "needs_background": "light"
     },
     "output_type": "display_data"
    }
   ],
   "source": [
    "ds = numpy.logspace(0,3,20).astype('int')\n",
    "utils.getcurves(X,T,zip([500]*len(ds),ds),ds,geterr,hoeffding,vc)"
   ]
  },
  {
   "cell_type": "markdown",
   "metadata": {},
   "source": [
    "Here again, the Hoeffding's bound is not a bound of the test error as it produces values below that error. Here, the VC bound varies in opposite direction to the test error. This can be due to the fact that we have set the VC-dimension to that of a general $d$-dimensional classifier, without taking in to account other aspects such as margin, which has a tendency to increase as we observe more dimensions."
   ]
  },
  {
   "cell_type": "code",
   "execution_count": null,
   "metadata": {},
   "outputs": [],
   "source": []
  }
 ],
 "metadata": {
  "kernelspec": {
   "display_name": "Python 3",
   "language": "python",
   "name": "python3"
  },
  "language_info": {
   "codemirror_mode": {
    "name": "ipython",
    "version": 3
   },
   "file_extension": ".py",
   "mimetype": "text/x-python",
   "name": "python",
   "nbconvert_exporter": "python",
   "pygments_lexer": "ipython3",
   "version": "3.8.3"
  }
 },
 "nbformat": 4,
 "nbformat_minor": 1
}
