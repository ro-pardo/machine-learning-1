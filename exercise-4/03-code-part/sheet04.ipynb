{
 "cells": [
  {
   "cell_type": "markdown",
   "metadata": {},
   "source": [
    "# Fisher Linear Discriminant"
   ]
  },
  {
   "cell_type": "markdown",
   "metadata": {},
   "source": [
    "### Students: \n",
    "* Mattes Ohse   (337356)\n",
    "* Florian Ebert (391837)\n",
    "* Rodrigo Alexis Pardo Meza \n",
    "* Bertty Contreras Rojas"
   ]
  },
  {
   "cell_type": "markdown",
   "metadata": {},
   "source": [
    "In this exercise, we apply Fisher Linear Discriminant as described in Chapter 3.8.2 of Duda et al. on the UCI Abalone dataset. A description of the dataset is given at the page https://archive.ics.uci.edu/ml/datasets/Abalone. The following two methods are provided for your convenience: \n",
    "\n",
    "\n",
    "* **`utils.Abalone.__init__(self)`** reads the Abalone data and instantiates two data matrices corresponding to: *infant (I)*, *non-infant (N)*.\n",
    "\n",
    "\n",
    "* **`utils.Abalone.plot(self,w)`** produces a histogram of the data when projected onto a vector `w`, and where each class is shown in a different color.\n",
    "\n",
    "\n",
    "Sample code that makes use of these two methods is given below. It loads the data, looks at the shape of instantiated matrices, and plots the projection on the first dimension of the data representing the length of the abalone."
   ]
  },
  {
   "cell_type": "code",
   "execution_count": 1,
   "metadata": {},
   "outputs": [
    {
     "name": "stdout",
     "output_type": "stream",
     "text": [
      "(1342, 7) (2835, 7)\n"
     ]
    },
    {
     "data": {
      "image/png": "[encoded data removed]",
      "text/plain": [
       "<Figure size 432x144 with 1 Axes>"
      ]
     },
     "metadata": {
      "needs_background": "light"
     },
     "output_type": "display_data"
    }
   ],
   "source": [
    "%matplotlib inline\n",
    "import utils,numpy\n",
    "\n",
    "# Load the data\n",
    "abalone = utils.Abalone()\n",
    "\n",
    "# Print dataset size for each class\n",
    "print(abalone.I.shape, abalone.N.shape)\n",
    "\n",
    "# Project data on the first dimension\n",
    "w1 = numpy.array([1,0,0,0,0,0,0])\n",
    "abalone.plot(w1,'projection on the first dimension (length)')"
   ]
  },
  {
   "cell_type": "markdown",
   "metadata": {},
   "source": [
    "## Implementation (10 + 5 + 5 = 20 P)\n",
    "\n",
    "* **Create a function `w = fisher(X1,X2)` that takes as input the data for two classes and returns the Fisher linear discriminant.**\n",
    "\n",
    "\n",
    "* **Create a function `objective(X1,X2,w)` that evaluates the objective defined in Equation 96 of Duda et al. for an arbitrary projection vector `w`.**\n",
    "\n",
    "\n",
    "* **Create a function `z = phi(X)` that returns a quadratic expansion for each data point `x` in the dataset. Such expansion consists of the vector `x` itself, to which we concatenate the vector of all pairwise products between elements of `x`.** In other words, letting $x = (x_1,\\dots,x_d)$ denote the $d$-dimensional data point, the quadratic expansion for this data point is a $d \\cdot (d+3)/2$ dimensional vector given by $\\phi(x) = (x_i)_{1 \\leq i \\leq d} \\cup (x_i x_j)_{1 \\leq i \\leq j \\leq d}$. For example, the quadratic expansion for $d=2$ is $(x_1,x_2,x_1^2,x_2^2,x_1 x_2)$."
   ]
  },
  {
   "cell_type": "code",
   "execution_count": 2,
   "metadata": {},
   "outputs": [],
   "source": [
    "def mean_vector(X):\n",
    "    dimensions = X.shape[1]\n",
    "    return X.mean(axis=0).reshape([dimensions, 1]), dimensions\n",
    "    \n",
    "#calculate the scatter_matrix\n",
    "def scatter_matrix(X):\n",
    "    points = X.shape[0]\n",
    "    mean, dimensions = mean_vector(X)\n",
    "    sub_x_mean = X.T - mean\n",
    "    #scatter = numpy.zeros([dimensions, dimensions])\n",
    "    #for x_tmp in sub_x_mean.T:\n",
    "    #    x_k = x_tmp.reshape([dimensions, 1])\n",
    "    #    scatter += numpy.matmul(x_k, x_k.T)\n",
    "    scatter = sub_x_mean.dot(sub_x_mean.T)\n",
    "    return scatter, mean\n",
    "\n",
    "\n",
    "def get_Ss_matrix(X1, X2):\n",
    "    S_x1, x1_mean = scatter_matrix(X1)\n",
    "    N_x1 = X1.shape[0]\n",
    "    \n",
    "    S_x2, x2_mean = scatter_matrix(X2)\n",
    "    N_x2 = X2.shape[0]\n",
    "    \n",
    "    S_w = S_x1 + S_x2\n",
    "    \n",
    "    sub_means =  x1_mean - x2_mean\n",
    "    S_b =  sub_means.dot(sub_means.T)\n",
    "    \n",
    "    return S_w, S_b, sub_means\n",
    "\n",
    "def fisher(X1,X2):\n",
    "    S_w, S_b, sub_means = get_Ss_matrix(X1, X2)\n",
    "    \n",
    "    w = numpy.linalg.inv(S_w).dot((sub_means))\n",
    "    \n",
    "    return w / numpy.linalg.norm(w)\n",
    "    \n",
    "\n",
    "def objective(X1,X2,w):\n",
    "    S_w, S_b, _= get_Ss_matrix(X1, X2)\n",
    "    upper = w.T.dot(S_b.dot(w))\n",
    "    down =  w.T.dot(S_w.dot(w))\n",
    "    jw = upper / down\n",
    "    return jw.item()\n",
    "\n",
    "def unique_combinatorial(N, size=2):\n",
    "    x_pos = numpy.arange(N)\n",
    "    return numpy.unique(\n",
    "                numpy.sort(\n",
    "                    numpy.array(\n",
    "                        numpy.meshgrid(\n",
    "                            x_pos, \n",
    "                            x_pos\n",
    "                        )\n",
    "                    ).T.reshape(-1,size)\n",
    "                ),\n",
    "                axis=0\n",
    "            )\n",
    "\n",
    "def phi(X):\n",
    "    d = X.shape[0]\n",
    "    exp = numpy.empty([int((d *(d+3))/2)])\n",
    "    exp[0:d] = X\n",
    "    index = d\n",
    "    comb = unique_combinatorial(d)\n",
    "    for mul in comb:\n",
    "        exp[index] = X[mul[0]] * X[mul[1]]\n",
    "        index += 1\n",
    "    return exp\n",
    "    \n",
    "def expand(X):    \n",
    "    return numpy.array([phi(x) for x in X])\n"
   ]
  },
  {
   "cell_type": "markdown",
   "metadata": {},
   "source": [
    "## Analysis (5 + 5 = 10 P)\n",
    "\n",
    "* **Print value of the objective function and the histogram for several values of `w`:**\n",
    "\n",
    "  * `w` is a canonical coordinate vector for the first feature (length).\n",
    "  * `w` is the difference between the mean vectors of the two classes.\n",
    "  * `w` is the Fisher linear discriminant.\n",
    "  * `w` is the Fisher linear discriminant (after quadratic expansion of the data)."
   ]
  },
  {
   "cell_type": "code",
   "execution_count": 3,
   "metadata": {},
   "outputs": [
    {
     "name": "stdout",
     "output_type": "stream",
     "text": [
      "first dimension (length): 0.00048\n"
     ]
    },
    {
     "data": {
      "image/png": "[encoded data removed]",
      "text/plain": [
       "<Figure size 432x144 with 1 Axes>"
      ]
     },
     "metadata": {
      "needs_background": "light"
     },
     "output_type": "display_data"
    },
    {
     "name": "stdout",
     "output_type": "stream",
     "text": [
      "Means Linear: 0.00050\n"
     ]
    },
    {
     "data": {
      "image/png": "[encoded data removed]",
      "text/plain": [
       "<Figure size 432x144 with 1 Axes>"
      ]
     },
     "metadata": {
      "needs_background": "light"
     },
     "output_type": "display_data"
    },
    {
     "name": "stdout",
     "output_type": "stream",
     "text": [
      "Fisher: 0.00057\n"
     ]
    },
    {
     "data": {
      "image/png": "[encoded data removed]",
      "text/plain": [
       "<Figure size 432x144 with 1 Axes>"
      ]
     },
     "metadata": {
      "needs_background": "light"
     },
     "output_type": "display_data"
    },
    {
     "name": "stdout",
     "output_type": "stream",
     "text": [
      "Fisher after expansion: 0.00077\n"
     ]
    },
    {
     "data": {
      "image/png": "[encoded data removed]",
      "text/plain": [
       "<Figure size 432x144 with 1 Axes>"
      ]
     },
     "metadata": {
      "needs_background": "light"
     },
     "output_type": "display_data"
    }
   ],
   "source": [
    "%matplotlib inline\n",
    "\n",
    "X1 = abalone.I\n",
    "X2 = abalone.N\n",
    "\n",
    "\n",
    "def show(X1, X2, w, label):\n",
    "    objective_value = objective(X1, X2, w)\n",
    "    print('{}: {:.5f}'.format(label, objective_value))\n",
    "    abalone.plot(w, label)\n",
    "\n",
    "# w = canonical coordinate vector for the first feature (length).\n",
    "w1 = numpy.array([1,0,0,0,0,0,0])\n",
    "show(X1, X2, w1, 'first dimension (length)')\n",
    "\n",
    "\n",
    "# w = the difference between the mean vectors of the two classes.\n",
    "_a, _b, sub_means = get_Ss_matrix(X1, X2)\n",
    "show(X1, X2, sub_means, 'Means Linear')\n",
    "\n",
    "# w = he Fisher linear discriminant.\n",
    "w_fisher = fisher(X1, X2)\n",
    "show(X1, X2, w_fisher, 'Fisher')\n",
    "\n",
    "#w = the Fisher linear discriminant (after quadratic expansion of the data).\n",
    "X1_exp = expand(X1)\n",
    "X2_exp = expand(X2)\n",
    "abalone.I = X1_exp\n",
    "abalone.N = X2_exp\n",
    "w_fisher_exp = fisher(X1_exp, X2_exp)\n",
    "show(X1_exp, X2_exp, w_fisher_exp, 'Fisher after expansion')\n"
   ]
  }
 ],
 "metadata": {
  "kernelspec": {
   "display_name": "Python 3",
   "language": "python",
   "name": "python3"
  },
  "language_info": {
   "codemirror_mode": {
    "name": "ipython",
    "version": 3
   },
   "file_extension": ".py",
   "mimetype": "text/x-python",
   "name": "python",
   "nbconvert_exporter": "python",
   "pygments_lexer": "ipython3",
   "version": "3.8.3"
  }
 },
 "nbformat": 4,
 "nbformat_minor": 1
}
